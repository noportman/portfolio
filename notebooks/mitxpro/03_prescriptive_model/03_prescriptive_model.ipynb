{
 "cells": [
  {
   "cell_type": "markdown",
   "metadata": {
    "id": "mYeHzT7GQ98V"
   },
   "source": [
    "# Data Cleaning, EDA, and Statistical Modeling Workbook"
   ]
  },
  {
   "cell_type": "markdown",
   "metadata": {
    "id": "XJrI9mgn9uyW"
   },
   "source": [
    "[![Open in Colab](https://colab.research.google.com/assets/colab-badge.svg)](https://githubtocolab.com/snowport/snowport.github.io/blob/main/docs/notebooks/mitxpro/03_prescriptive_model.ipynb)"
   ]
  },
  {
   "cell_type": "markdown",
   "metadata": {
    "id": "sX38M7r0RFYv"
   },
   "source": [
    "## Introduction"
   ]
  },
  {
   "cell_type": "markdown",
   "metadata": {
    "id": "t8zcJ1EfRJUz"
   },
   "source": [
    "This notebook walks through a full data analysis pipeline — from raw data ingestion and encoding detection to exploratory data analysis (EDA), statistical modeling, and model performance evaluation. Key tools include `chardet` and `codecs` for encoding detection, `pandas` and `skimpy` for data exploration, `statsmodels` for linear and logistic regression, and `scikit-learn` for evaluation metrics such as confusion matrices and accuracy scores."
   ]
  },
  {
   "cell_type": "code",
   "execution_count": null,
   "metadata": {
    "id": "qX_yWVG8h8J9"
   },
   "outputs": [],
   "source": [
    "# Install dependencies, if needed\n",
    "!pip install skimpy"
   ]
  },
  {
   "cell_type": "code",
   "execution_count": null,
   "metadata": {
    "colab": {
     "base_uri": "https://localhost:8080/",
     "height": 206
    },
    "id": "hrpah9R7imgf",
    "outputId": "e873815b-0b28-43a0-9bee-d508d0602bf5"
   },
   "outputs": [],
   "source": [
    "import chardet\n",
    "import pandas as pd\n",
    "\n",
    "# Read the CSV file using the detected encoding and specifying the delimiter\n",
    "\n",
    "url = \"https://docs.google.com/spreadsheets/d/10L8BpkV4q1Zsou4daYoWul_8PFA9rsv2/export?format=csv&id=10L8BpkV4q1Zsou4daYoWul_8PFA9rsv2&gid=1710894028\"\n",
    "df = pd.read_csv(url, index_col=False)\n",
    "\n",
    "df.head()"
   ]
  },
  {
   "cell_type": "code",
   "execution_count": null,
   "metadata": {
    "colab": {
     "base_uri": "https://localhost:8080/",
     "height": 442
    },
    "id": "3U4rwyazi6zF",
    "outputId": "7bece1cd-d86c-4f5f-e6a3-4e733d99a29c"
   },
   "outputs": [],
   "source": [
    "# imports packages to be used in the code\n",
    "import numpy as np\n",
    "import codecs\n",
    "import pandas as pd\n",
    "import matplotlib.pyplot as plt\n",
    "import seaborn as sns\n",
    "import statsmodels.api as sm\n",
    "import sklearn as skl\n",
    "from statsmodels.formula.api import ols\n",
    "from statsmodels.formula.api import logit\n",
    "from scipy.stats import norm\n",
    "from sklearn.model_selection import train_test_split\n",
    "from sklearn.metrics import ConfusionMatrixDisplay\n",
    "from sklearn.metrics import confusion_matrix\n",
    "from sklearn.metrics import accuracy_score\n",
    "from skimpy import skim\n",
    "\n",
    "print(skl.__version__)\n",
    "\n",
    "df"
   ]
  },
  {
   "cell_type": "code",
   "execution_count": null,
   "metadata": {
    "colab": {
     "base_uri": "https://localhost:8080/",
     "height": 237
    },
    "id": "R1RLZanRjP9j",
    "outputId": "be7d6a9f-270d-4e39-c538-bf912e6c76bc"
   },
   "outputs": [],
   "source": [
    "# shows first 6 rows of dataframe\n",
    "df.head(6)"
   ]
  },
  {
   "cell_type": "code",
   "execution_count": null,
   "metadata": {
    "colab": {
     "base_uri": "https://localhost:8080/",
     "height": 237
    },
    "id": "GyPbUclijP11",
    "outputId": "27020d7d-bf6f-4ac2-8252-b29b8d1b05c0"
   },
   "outputs": [],
   "source": [
    "df.tail(6)"
   ]
  },
  {
   "cell_type": "code",
   "execution_count": null,
   "metadata": {
    "id": "46fhIIGLjS_X"
   },
   "outputs": [],
   "source": [
    "df = df[[\"default\", \"fico_score\"]]"
   ]
  },
  {
   "cell_type": "code",
   "execution_count": null,
   "metadata": {
    "colab": {
     "base_uri": "https://localhost:8080/",
     "height": 423
    },
    "id": "X8d3mmQqjib3",
    "outputId": "28678260-1273-409b-d92b-14b28eccb3bb"
   },
   "outputs": [],
   "source": [
    "df"
   ]
  },
  {
   "cell_type": "code",
   "execution_count": null,
   "metadata": {
    "colab": {
     "base_uri": "https://localhost:8080/",
     "height": 279
    },
    "id": "E83zQtVpjlBd",
    "outputId": "05fe149f-2f24-4f28-8352-fd78ae91cc3d"
   },
   "outputs": [],
   "source": [
    "skim(df)"
   ]
  },
  {
   "cell_type": "code",
   "execution_count": null,
   "metadata": {
    "colab": {
     "base_uri": "https://localhost:8080/",
     "height": 490
    },
    "id": "Gw8S1aHejx9t",
    "outputId": "f2dfeef9-cc69-433a-c14d-9a079ab08fc4"
   },
   "outputs": [],
   "source": [
    "# plot target variable\n",
    "# plt.scatter(df['default'], df['inquiries'],alpha =0.0, s=200)\n",
    "# df = pd.read_excel('loans.xlsx')\n",
    "plt.scatter(df[\"default\"], df[\"fico_score\"], alpha=1.0, s=200)\n",
    "plt.title(\"fico vs. default\")\n",
    "plt.xlabel(\"default\")\n",
    "plt.ylabel(\"fico\")"
   ]
  },
  {
   "cell_type": "code",
   "execution_count": null,
   "metadata": {
    "id": "Wq_bqwGCj8Dx"
   },
   "outputs": [],
   "source": [
    "# data split into 70% train and 30% test\n",
    "df_train, df_test = train_test_split(df, test_size=0.3)"
   ]
  },
  {
   "cell_type": "code",
   "execution_count": null,
   "metadata": {
    "colab": {
     "base_uri": "https://localhost:8080/"
    },
    "id": "7zfH3zjKj_Kh",
    "outputId": "cd47077f-4077-4538-f637-bb947933e396"
   },
   "outputs": [],
   "source": [
    "print(df_train)\n",
    "# Save the DataFrame to a CSV file\n",
    "# Replace 'file_path' with the path where you want to save the file\n",
    "file_path = \"df_train.csv\"\n",
    "df_train.to_csv(file_path, index=False)"
   ]
  },
  {
   "cell_type": "code",
   "execution_count": null,
   "metadata": {
    "colab": {
     "base_uri": "https://localhost:8080/",
     "height": 279
    },
    "id": "vddUjxi9kD3v",
    "outputId": "0c2edf2f-7645-4c45-df72-1dd6dce9ae65"
   },
   "outputs": [],
   "source": [
    "skim(df_train)"
   ]
  },
  {
   "cell_type": "code",
   "execution_count": null,
   "metadata": {
    "colab": {
     "base_uri": "https://localhost:8080/",
     "height": 279
    },
    "id": "qg515NW4kGXd",
    "outputId": "ad4aad6d-26d5-480f-fd2b-68d8fbe3c248"
   },
   "outputs": [],
   "source": [
    "skim(df_test)"
   ]
  },
  {
   "cell_type": "code",
   "execution_count": null,
   "metadata": {
    "colab": {
     "base_uri": "https://localhost:8080/"
    },
    "id": "MUrN98KrkT4s",
    "outputId": "62515a39-3513-45f6-fcd6-51b63046553c"
   },
   "outputs": [],
   "source": [
    "# build formula,  target (dependent variable) ~ features (independent variables)\n",
    "# build model, fit the formula to the training data using a logistic algorithm (logit)\n",
    "est = logit(formula=\"default ~ fico_score\", data=df_train).fit()\n",
    "\n",
    "# print the results of the model (est).\n",
    "# Examine; Pseudo R-square\n",
    "\n",
    "print(est.summary())"
   ]
  },
  {
   "cell_type": "code",
   "execution_count": null,
   "metadata": {
    "colab": {
     "base_uri": "https://localhost:8080/",
     "height": 237
    },
    "id": "UO4SpY7rklFx",
    "outputId": "e33563ba-98d7-482e-cb27-80e7d9441283"
   },
   "outputs": [],
   "source": [
    "# apply the model (est) to the test data and make predictions\n",
    "preds = est.predict(df_test)\n",
    "df_test[\"predicted_probability\"] = preds\n",
    "\n",
    "# print top 6 predicted probabilities\n",
    "df_test.head(6)"
   ]
  },
  {
   "cell_type": "code",
   "execution_count": null,
   "metadata": {
    "colab": {
     "base_uri": "https://localhost:8080/"
    },
    "id": "k5sV9ONokqbD",
    "outputId": "0cfc94c8-03b9-4d8d-dee9-7aad484792cf"
   },
   "outputs": [],
   "source": [
    "# test for 'predicted_probability > 0.5, if yes assign will_default to 1, otherwise to 0\n",
    "df_test[\"will_default\"] = np.where(df_test[\"predicted_probability\"] > 0.25, 1, 0)\n",
    "df_test.head(6)\n",
    "print(df_test)"
   ]
  },
  {
   "cell_type": "markdown",
   "metadata": {
    "id": "tRh3Ite0Q6fy"
   },
   "source": [
    "## Confusion Matrix"
   ]
  },
  {
   "cell_type": "code",
   "execution_count": null,
   "metadata": {
    "colab": {
     "base_uri": "https://localhost:8080/",
     "height": 490
    },
    "id": "38hmWlXEkyMZ",
    "outputId": "5af18e8d-70ca-41ca-905d-d243bf795e8f"
   },
   "outputs": [],
   "source": [
    "# Evaluation Metrics\n",
    "# print confusion matrix with labels\n",
    "\n",
    "# Plot the confusion matrix with the custom Seaborn-based colormap\n",
    "disp = ConfusionMatrixDisplay.from_predictions(\n",
    "    df_test[\"default\"],\n",
    "    df_test[\"will_default\"],\n",
    "    display_labels=[\"No Default\", \"Default\"],\n",
    "    cmap=\"Blues\",\n",
    ")\n",
    "\n",
    "plt.title(\"Confusion Matrix\")\n",
    "plt.show()\n",
    "\n",
    "# print accuracy\n",
    "print(\"Accuracy: \" + str(accuracy_score(df_test[\"default\"], df_test[\"will_default\"])))"
   ]
  },
  {
   "cell_type": "code",
   "execution_count": null,
   "metadata": {
    "colab": {
     "base_uri": "https://localhost:8080/",
     "height": 472
    },
    "id": "-bmqSK7kpnY0",
    "outputId": "0e24e9e6-53ee-4657-a2b0-f7ab713cf034"
   },
   "outputs": [],
   "source": [
    "matrix = confusion_matrix(df_test[\"default\"], df_test[\"will_default\"])\n",
    "\n",
    "# Normalize the matrix to get percentages\n",
    "normalized_matrix = matrix / np.sum(matrix)\n",
    "\n",
    "# Create label overlay\n",
    "labels = [\"True Neg\", \"False Pos\", \"False Neg\", \"True Pos\"]\n",
    "labels = np.asarray(labels).reshape(2, 2)\n",
    "\n",
    "# Format labels with percentages + class names\n",
    "annot = np.empty_like(labels, dtype=object)\n",
    "for i in range(2):\n",
    "    for j in range(2):\n",
    "        annot[i, j] = f\"{labels[i, j]}\\n{normalized_matrix[i, j]:.2%}\"\n",
    "\n",
    "# Plot heatmap with combined labels and percentages\n",
    "sns.heatmap(normalized_matrix, annot=annot, fmt=\"\", cmap=\"Blues\", cbar=False)\n",
    "\n",
    "plt.title(\"Confusion Matrix with Custom Labels\")\n",
    "plt.xlabel(\"Predicted Label\")\n",
    "plt.ylabel(\"True Label\")\n",
    "plt.xticks([0.5, 1.5], [\"No Default\", \"Default\"])\n",
    "plt.yticks([0.5, 1.5], [\"No Default\", \"Default\"], rotation=0)\n",
    "plt.show()"
   ]
  }
 ],
 "metadata": {
  "colab": {
   "provenance": []
  },
  "kernelspec": {
   "display_name": "Python 3",
   "name": "python3"
  },
  "language_info": {
   "name": "python"
  }
 },
 "nbformat": 4,
 "nbformat_minor": 0
}
