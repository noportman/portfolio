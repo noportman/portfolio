{
  "cells": [
    {
      "cell_type": "markdown",
      "metadata": {
        "id": "SfG61sG7Qvho"
      },
      "source": [
        "# Optimizing Patient Scheduling with Binomial Probability"
      ]
    },
    {
      "cell_type": "markdown",
      "metadata": {
        "id": "xuoWBcrZ-OaT"
      },
      "source": [
        "[![Open in Colab](https://colab.research.google.com/assets/colab-badge.svg)](https://colab.research.google.com/github/snowport/snowport.github.io/blob/main/docs/notebooks/mitxpro/01_prescriptive_data.ipynb)"
      ]
    },
    {
      "cell_type": "markdown",
      "metadata": {
        "id": "hsRQMR6TRk-f"
      },
      "source": [
        "## Introduction\n",
        "\n",
        "This notebook contains a real-world application of the **binomial distribution** to help a physician optimize daily patient bookings. The physician sees **30 patients per day**, but due to a consistent **25% no-show rate**, there is a significant loss in efficiency and revenue.\n",
        "\n"
      ]
    },
    {
      "cell_type": "markdown",
      "metadata": {
        "id": "1kEZQglxNHQL"
      },
      "source": [
        "**Knowns**:\n",
        "- A physician's workload is 30 patients per day.\n",
        "- Unfortunately, because of no-shows, about 25% of patients fail to show up to their appointments leading to loss revenue for the physician.\n",
        "\n",
        "**Unknowns**:\n",
        "- The ideal amount of patient bookings per day.\n",
        "\n",
        "We can use python to intuitively calculate how many patients the physician should book to stay busy if only 75% of scheduled patients show up."
      ]
    },
    {
      "cell_type": "markdown",
      "metadata": {
        "id": "pEXcRhmiOyBu"
      },
      "source": [
        "## Technical preliminaries"
      ]
    },
    {
      "cell_type": "code",
      "execution_count": 9,
      "metadata": {
        "id": "eHIUZaegNJ-q"
      },
      "outputs": [],
      "source": [
        "import scipy\n",
        "from scipy.stats import binom"
      ]
    },
    {
      "cell_type": "markdown",
      "metadata": {
        "id": "POUNv3qROyBv"
      },
      "source": [
        "## Setting Up the Problem"
      ]
    },
    {
      "cell_type": "code",
      "execution_count": 10,
      "metadata": {
        "id": "m8Rk8CFaOyBw"
      },
      "outputs": [],
      "source": [
        "# Max number of patients per day\n",
        "workload = 30\n",
        "\n",
        "# Percentage of patients that show up\n",
        "prob = 0.75\n",
        "\n",
        "# Set \"ans\" as the answer\n",
        "ans = workload / prob"
      ]
    },
    {
      "cell_type": "code",
      "execution_count": 11,
      "metadata": {
        "colab": {
          "base_uri": "https://localhost:8080/"
        },
        "id": "vIekSoVtNN8C",
        "outputId": "cae36e4c-6683-4b43-b6a9-f9b37361ed6a"
      },
      "outputs": [
        {
          "name": "stdout",
          "output_type": "stream",
          "text": [
            "40.0\n"
          ]
        }
      ],
      "source": [
        "print(ans)"
      ]
    },
    {
      "cell_type": "markdown",
      "metadata": {
        "id": "hlEQ1WsQNUQz"
      },
      "source": [
        "## Binomial Distribution Model\n",
        "\n",
        "Because we are using *historical data* to assume 25% of patients no-show, this is a binomial distribution model. Similarly to how we calculate the normal distribution's Cumulative Density Function (CMF) and Probability Density Function (PDF), we can do the same for this normal distribution.\n",
        "\n",
        "First fill in the x and probability values to display the normal distribution of the linearly calculated value we found in the previous step."
      ]
    },
    {
      "cell_type": "code",
      "execution_count": 12,
      "metadata": {
        "colab": {
          "base_uri": "https://localhost:8080/",
          "height": 249
        },
        "id": "gXBz19iINTF5",
        "outputId": "3328c88d-d993-4544-ab0f-00fdd864a6cc"
      },
      "outputs": [
        {
          "data": {
            "image/png": "[encoded data removed]",
            "text/plain": [
              "<Figure size 640x480 with 1 Axes>"
            ]
          },
          "metadata": {},
          "output_type": "display_data"
        }
      ],
      "source": [
        "import matplotlib.pyplot as plt\n",
        "\n",
        "# set  the values of x and prob\n",
        "x = 40\n",
        "prob = 0.75\n",
        "\n",
        "# defining list of r values\n",
        "r_values = list(range(x + 1))\n",
        "\n",
        "# generate the \"dist\" variable by calling the binom.pmf() function below. this will be the list of pmf values\n",
        "dist = [binom.pmf(r, x, prob) for r in r_values]\n",
        "\n",
        "# Plotting the graph. Do not change. Used for grading\n",
        "plots = plt.bar(r_values, dist)\n",
        "xy = []\n",
        "for plot in plots:\n",
        "    xy.append(plot.get_xy())\n",
        "plt.show()"
      ]
    },
    {
      "cell_type": "markdown",
      "metadata": {
        "id": "fi2T7PtqOyBx"
      },
      "source": [
        "## Solution"
      ]
    },
    {
      "cell_type": "markdown",
      "metadata": {
        "id": "dYAHVufxNXGj"
      },
      "source": [
        "Next, use Python's scipy.stats.binom package to get more insight of the situation. Find the cumulative density function to statistically calculate how much (in percent) will the physician be overbooked if we use the linear calculations from the first step to overbook patients."
      ]
    },
    {
      "cell_type": "code",
      "execution_count": 13,
      "metadata": {
        "id": "T6BE8t4eNcAw"
      },
      "outputs": [],
      "source": [
        "# Fill in your linear prediction\n",
        "linearPrediction = 40\n",
        "workload = 30\n",
        "prob = 0.75\n",
        "\n",
        "# Find the amount overworked by calculating 1 - cdf(). Set the output to a variable called \"overworked\"\n",
        "overworked = 1 - binom.cdf(workload, linearPrediction, prob)"
      ]
    },
    {
      "cell_type": "code",
      "execution_count": 14,
      "metadata": {
        "colab": {
          "base_uri": "https://localhost:8080/"
        },
        "id": "6QHcACIyNdWL",
        "outputId": "0de607f6-4402-454e-97d3-a0d462ca2a6d"
      },
      "outputs": [
        {
          "name": "stdout",
          "output_type": "stream",
          "text": [
            "0.439539731672533\n"
          ]
        }
      ],
      "source": [
        "print(overworked)"
      ]
    },
    {
      "cell_type": "markdown",
      "metadata": {
        "id": "UMVJMhYxNg1P"
      },
      "source": [
        "Finally, we can use the binomial ppf() function to find the number of appointments the physician should book if she wants to limit the risk of having more than 30 appointments per day to 5%"
      ]
    },
    {
      "cell_type": "code",
      "execution_count": 15,
      "metadata": {
        "id": "tTuLHmt3Ni2m"
      },
      "outputs": [],
      "source": [
        "workload = 30\n",
        "prob = 0.75\n",
        "\n",
        "# Target amount of overbooked patients\n",
        "target = 0.05\n",
        "\n",
        "# Set \"total\" = workload + ppf()\n",
        "total = workload + binom.ppf(target, workload, 1 - prob)"
      ]
    },
    {
      "cell_type": "code",
      "execution_count": 16,
      "metadata": {
        "colab": {
          "base_uri": "https://localhost:8080/"
        },
        "id": "2UnkU_eNNkVt",
        "outputId": "6277c30d-9667-4f0b-ec91-e1e8f8cec067"
      },
      "outputs": [
        {
          "name": "stdout",
          "output_type": "stream",
          "text": [
            "34.0\n"
          ]
        }
      ],
      "source": [
        "print(total)"
      ]
    }
  ],
  "metadata": {
    "colab": {
      "provenance": []
    },
    "kernelspec": {
      "display_name": "Python 3",
      "name": "python3"
    },
    "language_info": {
      "name": "python"
    }
  },
  "nbformat": 4,
  "nbformat_minor": 0
}
